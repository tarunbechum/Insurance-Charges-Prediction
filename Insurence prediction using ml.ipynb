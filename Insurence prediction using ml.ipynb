{
 "cells": [
  {
   "cell_type": "markdown",
   "id": "58f03f0a",
   "metadata": {},
   "source": [
    "# Predicting Insurance Charges Using Linear Regression: A Machine Learning Approach\n",
    "\n",
    "#### Explore how machine learning can help forecast healthcare expenses. Our project uses basic linear regression to estimate insurance charges based on factors like age, BMI, smoking habits, and region. Get straightforward insights into what drives healthcare costs and make smarter insurance decisions.\n",
    "\n",
    "# Introduction\n",
    "Healthcare costs continue to rise, making it essential for insurance companies and individuals alike to accurately predict insurance charges. Traditional methods of determining insurance premiums often lack precision and may not reflect the diverse factors influencing healthcare expenses. Machine learning offers a promising solution by leveraging data to develop predictive models that can capture complex relationships between variables.\n",
    "\n",
    "In this project, we will utilize a dataset containing information on individuals' demographics, lifestyle habits, and medical history to train a linear regression model. Linear regression is a fundamental machine learning technique suitable for predicting continuous variables, making it well-suited for estimating insurance charges. By analyzing factors such as age, BMI, smoking status, region, and number of dependents, we aim to build a model that can reliably estimate insurance costs for individuals.\n",
    "\n",
    "The project will involve several key steps, including data preprocessing to handle missing values, categorical encoding, and feature scaling. We will then split the dataset into training and testing sets to train the linear regression model. Evaluation metrics such as mean absolute error, mean squared error, and R-squared will be used to assess the model's performance. Finally, we will deploy the trained model to make predictions on new data, providing a practical tool for estimating insurance charges.\n",
    "\n",
    "Through this project, we seek to demonstrate the effectiveness of machine learning in predicting insurance charges and its potential impact on insurance pricing and decision-making processes. By understanding the factors driving insurance costs, both insurance companies and individuals can make informed choices to improve healthcare affordability and accessibility.\n",
    "\n",
    "# Insurance Charges Dataset\n",
    "\n",
    "This dataset contains information about individuals' demographics and healthcare charges.\n",
    "\n",
    "## Data Description\n",
    "\n",
    "The dataset includes the following columns:\n",
    "\n",
    "- **age**: Age of the individual (years)\n",
    "- **sex**: Gender of the individual (male/female)\n",
    "- **bmi**: Body Mass Index (BMI) of the individual\n",
    "- **children**: Number of children/dependents covered by the insurance\n",
    "- **smoker**: Smoking status of the individual (yes/no)\n",
    "- **region**: Region of residence of the individual\n",
    "- **charges**: Insurance charges associated with the individual\n",
    "\n",
    "## Sample Data\n",
    "\n",
    "| age | sex    | bmi   | children | smoker | region     | charges    |\n",
    "|-----|--------|-------|----------|--------|------------|------------|\n",
    "| 19  | female | 27.9  | 0        | yes    | southwest  | 16884.924  |\n",
    "| 18  | male   | 33.77 | 1        | no     | southeast  | 1725.5523  |\n",
    "| 28  | male   | 33    | 3        | no     | southeast  | 4449.462   |\n",
    "| 33  | male   | 22.705| 0        | no     | northwest  | 21984.47061|\n",
    "| 32  | male   | 28.88 | 0        | no     | northwest  | 3866.8552  |\n",
    "| 31  | female | 25.74 | 0        | no     | southeast  | 3756.6216  |\n",
    "| 46  | female | 33.44 | 1        | no     | southeast  | 8240.5896  |\n",
    "| 37  | female | 27.74 | 3        | no     | northwest  | 7281.5056  |\n",
    "| 37  | male   | 29.83 | 2        | no     | northeast  | 6406.4107  |\n",
    "| 60  | female | 25.84 | 0        | no     | northwest  | 28923.13692|\n",
    "\n",
    "## Usage\n",
    "\n",
    "You can use this dataset for various data analysis and machine learning tasks, such as predicting insurance charges based on demographic and lifestyle factors.\n"
   ]
  },
  {
   "cell_type": "code",
   "execution_count": null,
   "id": "9a1f4c4d",
   "metadata": {},
   "outputs": [],
   "source": [
    "import pandas as pd\n",
    "import numpy as np\n",
    "import seaborn as sns\n",
    "from sklearn.preprocessing import LabelEncoder\n",
    "from sklearn.linear_model import LinearRegression\n",
    "from sklearn.metrics import r2_score\n",
    "from statsmodels.stats.outliers_influence import variance_inflation_factor \n",
    "import statsmodels.api as smf\n",
    "from sklearn.model_selection import train_test_split"
   ]
  },
  {
   "cell_type": "code",
   "execution_count": 6,
   "id": "65445f1b",
   "metadata": {},
   "outputs": [
    {
     "data": {
      "text/html": [
       "<div>\n",
       "<style scoped>\n",
       "    .dataframe tbody tr th:only-of-type {\n",
       "        vertical-align: middle;\n",
       "    }\n",
       "\n",
       "    .dataframe tbody tr th {\n",
       "        vertical-align: top;\n",
       "    }\n",
       "\n",
       "    .dataframe thead th {\n",
       "        text-align: right;\n",
       "    }\n",
       "</style>\n",
       "<table border=\"1\" class=\"dataframe\">\n",
       "  <thead>\n",
       "    <tr style=\"text-align: right;\">\n",
       "      <th></th>\n",
       "      <th>age</th>\n",
       "      <th>sex</th>\n",
       "      <th>bmi</th>\n",
       "      <th>children</th>\n",
       "      <th>smoker</th>\n",
       "      <th>region</th>\n",
       "      <th>charges</th>\n",
       "    </tr>\n",
       "  </thead>\n",
       "  <tbody>\n",
       "    <tr>\n",
       "      <th>0</th>\n",
       "      <td>19</td>\n",
       "      <td>female</td>\n",
       "      <td>27.900</td>\n",
       "      <td>0</td>\n",
       "      <td>yes</td>\n",
       "      <td>southwest</td>\n",
       "      <td>16884.92400</td>\n",
       "    </tr>\n",
       "    <tr>\n",
       "      <th>1</th>\n",
       "      <td>18</td>\n",
       "      <td>male</td>\n",
       "      <td>33.770</td>\n",
       "      <td>1</td>\n",
       "      <td>no</td>\n",
       "      <td>southeast</td>\n",
       "      <td>1725.55230</td>\n",
       "    </tr>\n",
       "    <tr>\n",
       "      <th>2</th>\n",
       "      <td>28</td>\n",
       "      <td>male</td>\n",
       "      <td>33.000</td>\n",
       "      <td>3</td>\n",
       "      <td>no</td>\n",
       "      <td>southeast</td>\n",
       "      <td>4449.46200</td>\n",
       "    </tr>\n",
       "    <tr>\n",
       "      <th>3</th>\n",
       "      <td>33</td>\n",
       "      <td>male</td>\n",
       "      <td>22.705</td>\n",
       "      <td>0</td>\n",
       "      <td>no</td>\n",
       "      <td>northwest</td>\n",
       "      <td>21984.47061</td>\n",
       "    </tr>\n",
       "    <tr>\n",
       "      <th>4</th>\n",
       "      <td>32</td>\n",
       "      <td>male</td>\n",
       "      <td>28.880</td>\n",
       "      <td>0</td>\n",
       "      <td>no</td>\n",
       "      <td>northwest</td>\n",
       "      <td>3866.85520</td>\n",
       "    </tr>\n",
       "  </tbody>\n",
       "</table>\n",
       "</div>"
      ],
      "text/plain": [
       "   age     sex     bmi  children smoker     region      charges\n",
       "0   19  female  27.900         0    yes  southwest  16884.92400\n",
       "1   18    male  33.770         1     no  southeast   1725.55230\n",
       "2   28    male  33.000         3     no  southeast   4449.46200\n",
       "3   33    male  22.705         0     no  northwest  21984.47061\n",
       "4   32    male  28.880         0     no  northwest   3866.85520"
      ]
     },
     "execution_count": 6,
     "metadata": {},
     "output_type": "execute_result"
    }
   ],
   "source": [
    "df = pd.read_csv(\"D:\\Professionaal folders\\DATA SCIENCE\\Machine learning\\insurance.csv\")\n",
    "df.head()"
   ]
  },
  {
   "cell_type": "markdown",
   "id": "842b9aa6",
   "metadata": {},
   "source": [
    "## Checking for Missing Values\n",
    "We conducted a comprehensive assessment of our dataset to identify any missing values. Leveraging the df.isnull().sum() function, we confirmed the absence of missing values across all columns, including age, sex, bmi, children, smoker, region, and charges. This guarantees the dataset's completeness and reliability, laying a solid foundation for subsequent analysis and modeling endeavors.\n",
    "\n",
    "\n"
   ]
  },
  {
   "cell_type": "code",
   "execution_count": 7,
   "id": "2fa77b21",
   "metadata": {},
   "outputs": [
    {
     "data": {
      "text/plain": [
       "age         0\n",
       "sex         0\n",
       "bmi         0\n",
       "children    0\n",
       "smoker      0\n",
       "region      0\n",
       "charges     0\n",
       "dtype: int64"
      ]
     },
     "execution_count": 7,
     "metadata": {},
     "output_type": "execute_result"
    }
   ],
   "source": [
    "df.isnull().sum()"
   ]
  },
  {
   "cell_type": "markdown",
   "id": "71aa6261",
   "metadata": {},
   "source": [
    "- The output indicates that there are zero missing values in each column of the dataset, ensuring data completeness and reliability for further analysis.\n",
    "\n",
    "\n",
    "\n",
    "\n",
    " "
   ]
  },
  {
   "cell_type": "markdown",
   "id": "d3b92899",
   "metadata": {},
   "source": [
    "## Assumptions of Linear Regression\n",
    "\n",
    "\n",
    "To assess the validity of our linear regression model, we are evaluating whether the key assumptions of linear regression are satisfied. These assumptions include \n",
    "- linearity\n",
    "- independence of errors\n",
    "- homoscedasticity (constant variance of errors)\n",
    "- normality of errors. \n",
    "\n",
    "\n",
    "By examining diagnostic plots and statistical tests, we aim to determine the extent to which these assumptions hold true in our dataset."
   ]
  },
  {
   "cell_type": "markdown",
   "id": "2f2bc29b",
   "metadata": {},
   "source": [
    "## Data Column Division\n",
    "We've separated our dataset into numeric and categorical columns for analysis. Numeric columns, including \"age\", \"bmi\", and \"children\", are stored in num_columns, while categorical columns like \"sex\", \"smoker\", and \"region\" are in cat_columns. This organization streamlines our approach to analyzing the data for linear regression.\n"
   ]
  },
  {
   "cell_type": "code",
   "execution_count": 6,
   "id": "2ea4c518",
   "metadata": {},
   "outputs": [
    {
     "data": {
      "text/plain": [
       "Index(['age', 'sex', 'bmi', 'children', 'smoker', 'region', 'charges'], dtype='object')"
      ]
     },
     "execution_count": 6,
     "metadata": {},
     "output_type": "execute_result"
    }
   ],
   "source": [
    "df.columns"
   ]
  },
  {
   "cell_type": "code",
   "execution_count": 8,
   "id": "a685a895",
   "metadata": {},
   "outputs": [],
   "source": [
    "Y = df[[\"charges\"]]\n",
    "num_columns = df[['age','bmi','children']]\n",
    "cat_columns = df[['sex','smoker','region']]\n"
   ]
  },
  {
   "cell_type": "markdown",
   "id": "b29c431e",
   "metadata": {},
   "source": [
    "## Checking Linearity with Scatter Plot\n",
    "To evaluate the linearity assumption of linear regression, we utilize a scatter plot to visualize the relationship between the independent variable \"age\" and the dependent variable \"charges.\" By plotting the data points using Seaborn's scatterplot() function, we can assess the presence of a linear relationship between these variables. This graphical analysis helps determine the suitability of linear regression for modeling the relationship between age and insurance charges."
   ]
  },
  {
   "cell_type": "code",
   "execution_count": 10,
   "id": "2aec62d0",
   "metadata": {},
   "outputs": [
    {
     "data": {
      "text/plain": [
       "<Axes: xlabel='age', ylabel='charges'>"
      ]
     },
     "execution_count": 10,
     "metadata": {},
     "output_type": "execute_result"
    },
    {
     "data": {
      "image/png": "[encoded data removed]",
      "text/plain": [
       "<Figure size 640x480 with 1 Axes>"
      ]
     },
     "metadata": {},
     "output_type": "display_data"
    }
   ],
   "source": [
    "sns.scatterplot(df, x = \"age\", y=\"charges\")"
   ]
  },
  {
   "cell_type": "markdown",
   "id": "77aee6d8",
   "metadata": {},
   "source": [
    "- The scatter plot illustrates the relationship between \"age\" and \"charges,\" suggesting a linear trend where insurance charges tend to increase with age."
   ]
  },
  {
   "cell_type": "code",
   "execution_count": 11,
   "id": "68941363",
   "metadata": {},
   "outputs": [
    {
     "data": {
      "text/plain": [
       "<Axes: xlabel='bmi', ylabel='charges'>"
      ]
     },
     "execution_count": 11,
     "metadata": {},
     "output_type": "execute_result"
    },
    {
     "data": {
      "image/png": "[encoded data removed]",
      "text/plain": [
       "<Figure size 640x480 with 1 Axes>"
      ]
     },
     "metadata": {},
     "output_type": "display_data"
    }
   ],
   "source": [
    "sns.scatterplot(df, x = \"bmi\", y=\"charges\")"
   ]
  },
  {
   "cell_type": "markdown",
   "id": "99b951db",
   "metadata": {},
   "source": [
    "The scatter plot displays the relationship between \"bmi\" (Body Mass Index) and \"charges\" (insurance charges), indicating a scattered distribution of data points with no clear linear pattern."
   ]
  },
  {
   "cell_type": "markdown",
   "id": "03da893d",
   "metadata": {},
   "source": [
    "## Converting Categorical Data to Numeric\n",
    "\n",
    "\n",
    "To facilitate modeling, we're transforming text data into numerical format using Label Encoding. By applying the LabelEncoder from scikit-learn, we convert the categorical variables \"sex,\" \"smoker,\" and \"region\" into integer representations. This preprocessing step ensures compatibility with machine learning algorithms that require numerical input."
   ]
  },
  {
   "cell_type": "code",
   "execution_count": 14,
   "id": "e2293ab8",
   "metadata": {},
   "outputs": [
    {
     "data": {
      "text/html": [
       "<div>\n",
       "<style scoped>\n",
       "    .dataframe tbody tr th:only-of-type {\n",
       "        vertical-align: middle;\n",
       "    }\n",
       "\n",
       "    .dataframe tbody tr th {\n",
       "        vertical-align: top;\n",
       "    }\n",
       "\n",
       "    .dataframe thead th {\n",
       "        text-align: right;\n",
       "    }\n",
       "</style>\n",
       "<table border=\"1\" class=\"dataframe\">\n",
       "  <thead>\n",
       "    <tr style=\"text-align: right;\">\n",
       "      <th></th>\n",
       "      <th>age</th>\n",
       "      <th>sex</th>\n",
       "      <th>bmi</th>\n",
       "      <th>children</th>\n",
       "      <th>smoker</th>\n",
       "      <th>region</th>\n",
       "      <th>charges</th>\n",
       "    </tr>\n",
       "  </thead>\n",
       "  <tbody>\n",
       "    <tr>\n",
       "      <th>0</th>\n",
       "      <td>19</td>\n",
       "      <td>0</td>\n",
       "      <td>27.900</td>\n",
       "      <td>0</td>\n",
       "      <td>1</td>\n",
       "      <td>3</td>\n",
       "      <td>16884.92400</td>\n",
       "    </tr>\n",
       "    <tr>\n",
       "      <th>1</th>\n",
       "      <td>18</td>\n",
       "      <td>1</td>\n",
       "      <td>33.770</td>\n",
       "      <td>1</td>\n",
       "      <td>0</td>\n",
       "      <td>2</td>\n",
       "      <td>1725.55230</td>\n",
       "    </tr>\n",
       "    <tr>\n",
       "      <th>2</th>\n",
       "      <td>28</td>\n",
       "      <td>1</td>\n",
       "      <td>33.000</td>\n",
       "      <td>3</td>\n",
       "      <td>0</td>\n",
       "      <td>2</td>\n",
       "      <td>4449.46200</td>\n",
       "    </tr>\n",
       "    <tr>\n",
       "      <th>3</th>\n",
       "      <td>33</td>\n",
       "      <td>1</td>\n",
       "      <td>22.705</td>\n",
       "      <td>0</td>\n",
       "      <td>0</td>\n",
       "      <td>1</td>\n",
       "      <td>21984.47061</td>\n",
       "    </tr>\n",
       "    <tr>\n",
       "      <th>4</th>\n",
       "      <td>32</td>\n",
       "      <td>1</td>\n",
       "      <td>28.880</td>\n",
       "      <td>0</td>\n",
       "      <td>0</td>\n",
       "      <td>1</td>\n",
       "      <td>3866.85520</td>\n",
       "    </tr>\n",
       "  </tbody>\n",
       "</table>\n",
       "</div>"
      ],
      "text/plain": [
       "   age  sex     bmi  children  smoker  region      charges\n",
       "0   19    0  27.900         0       1       3  16884.92400\n",
       "1   18    1  33.770         1       0       2   1725.55230\n",
       "2   28    1  33.000         3       0       2   4449.46200\n",
       "3   33    1  22.705         0       0       1  21984.47061\n",
       "4   32    1  28.880         0       0       1   3866.85520"
      ]
     },
     "execution_count": 14,
     "metadata": {},
     "output_type": "execute_result"
    }
   ],
   "source": [
    "le = LabelEncoder()\n",
    "for i in ['sex','smoker','region']:\n",
    "    df[i] = le.fit_transform(df[i])\n",
    "df.head()    \n",
    "    \n"
   ]
  },
  {
   "cell_type": "markdown",
   "id": "5b8f5d99",
   "metadata": {},
   "source": [
    "## Visualizing Outliers in \"Age\" Column\n",
    "By utilizing a box plot, we're visually inspecting the distribution of the \"age\" column to detect potential outliers. Box plots display the median, quartiles, and any outliers in the data distribution. Outliers, indicated as individual data points beyond the whiskers of the box plot, may appear as data points above or below the upper and lower bounds of the whiskers, respectively. This visualization helps us identify and assess the presence of outliers in the \"age\" variable."
   ]
  },
  {
   "cell_type": "code",
   "execution_count": 15,
   "id": "db418c01",
   "metadata": {},
   "outputs": [
    {
     "data": {
      "text/plain": [
       "<Axes: >"
      ]
     },
     "execution_count": 15,
     "metadata": {},
     "output_type": "execute_result"
    },
    {
     "data": {
      "image/png": "[encoded data removed]",
      "text/plain": [
       "<Figure size 640x480 with 1 Axes>"
      ]
     },
     "metadata": {},
     "output_type": "display_data"
    }
   ],
   "source": [
    "sns.boxplot(df[\"age\"])Checking Linearity with Scatter Plot"
   ]
  },
  {
   "cell_type": "markdown",
   "id": "65603811",
   "metadata": {},
   "source": [
    "- The box plot analysis reveals no outliers in the \"age\" column, indicating that the age values are within an acceptable range without significant deviations from the overall distribution.\n",
    "\n",
    "\n",
    "\n",
    "\n"
   ]
  },
  {
   "cell_type": "markdown",
   "id": "9771b596",
   "metadata": {},
   "source": [
    "The box plot for the \"bmi\" (Body Mass Index) column indicates the presence of outliers, as evidenced by data points extending beyond the upper and lower bounds of the whiskers.\n",
    "\n",
    "\n",
    "\n",
    "\n"
   ]
  },
  {
   "cell_type": "code",
   "execution_count": 16,
   "id": "40cd1177",
   "metadata": {},
   "outputs": [
    {
     "data": {
      "text/plain": [
       "<Axes: >"
      ]
     },
     "execution_count": 16,
     "metadata": {},
     "output_type": "execute_result"
    },
    {
     "data": {
      "image/png": "[encoded data removed]",
      "text/plain": [
       "<Figure size 640x480 with 1 Axes>"
      ]
     },
     "metadata": {},
     "output_type": "display_data"
    }
   ],
   "source": [
    "sns.boxplot(df[\"bmi\"])"
   ]
  },
  {
   "cell_type": "markdown",
   "id": "7aaa3a95",
   "metadata": {},
   "source": [
    "#### An outlier is observed on the upper side of the box plot for the \"bmi\" column, indicating a data point with a significantly higher BMI value compared to the rest of the observations.\n",
    "\n",
    "\n",
    "\n",
    "\n"
   ]
  },
  {
   "cell_type": "markdown",
   "id": "b023bf90",
   "metadata": {},
   "source": [
    "\n",
    "## Treating Outliers in \"BMI\" Column\n",
    "To address the outlier in the \"bmi\" column, we calculate the Interquartile Range (IQR) as the difference between the third quartile (Q3) and the first quartile (Q1). Then, we compute the Upper Fence (UC) using the formula: UC = Q3 + (1.5 * IQR). Any BMI values exceeding the Upper Fence are replaced with the Upper Fence value. After treating the outlier, the box plot demonstrates a more uniform distribution of BMI values without extreme outliers."
   ]
  },
  {
   "cell_type": "code",
   "execution_count": 20,
   "id": "9f5947e0",
   "metadata": {},
   "outputs": [
    {
     "data": {
      "text/plain": [
       "count    1338.000000\n",
       "mean       30.663397\n",
       "std         6.098187\n",
       "min        15.960000\n",
       "25%        26.296250\n",
       "50%        30.400000\n",
       "75%        34.693750\n",
       "max        53.130000\n",
       "Name: bmi, dtype: float64"
      ]
     },
     "execution_count": 20,
     "metadata": {},
     "output_type": "execute_result"
    }
   ],
   "source": [
    "df[\"bmi\"].describe()"
   ]
  },
  {
   "cell_type": "code",
   "execution_count": 24,
   "id": "9be44382",
   "metadata": {},
   "outputs": [
    {
     "data": {
      "text/plain": [
       "<Axes: >"
      ]
     },
     "execution_count": 24,
     "metadata": {},
     "output_type": "execute_result"
    },
    {
     "data": {
      "image/png": "[encoded data removed]",
      "text/plain": [
       "<Figure size 640x480 with 1 Axes>"
      ]
     },
     "metadata": {},
     "output_type": "display_data"
    }
   ],
   "source": [
    "IQR = 34.69-26.29 \n",
    "UC = 34.69 + (1.5*IQR)\n",
    "df[\"bmi\"] = np.where(df[\"bmi\"]>UC,UC,df[\"bmi\"])\n",
    "sns.boxplot(df.bmi)"
   ]
  },
  {
   "cell_type": "markdown",
   "id": "a88aa1e2",
   "metadata": {},
   "source": [
    "## Multicollinearity Assessment using Variance Inflation Factor (VIF)\n",
    "To evaluate multicollinearity among the independent variables, we employ the Variance Inflation Factor (VIF) method. Multicollinearity occurs when independent variables in a regression model are highly correlated with each other, which can lead to inaccurate coefficient estimates. The VIF quantifies the severity of multicollinearity by measuring how much the variance of an estimated regression coefficient is inflated due to multicollinearity.\n",
    "\n",
    "We calculate the VIF for each independent variable (features: age, sex, bmi, children, smoker, and region) using the statsmodels library. The VIF values indicate the extent of multicollinearity present in the dataset, with higher values suggesting stronger correlations among variables. Identifying and addressing multicollinearity is essential for ensuring the reliability and interpretability of regression models.\n",
    "\n",
    "\n",
    "\n",
    "\n"
   ]
  },
  {
   "cell_type": "code",
   "execution_count": 33,
   "id": "96f24e80",
   "metadata": {},
   "outputs": [
    {
     "name": "stdout",
     "output_type": "stream",
     "text": [
      "    feature        VIF\n",
      "0       age   9.980375\n",
      "1       sex   2.002331\n",
      "2       bmi  12.096951\n",
      "3  children   1.840681\n",
      "4    smoker   1.257226\n",
      "5    region   2.927580\n"
     ]
    }
   ],
   "source": [
    "# multicolinearity check \n",
    "# in terms to check multicolinearity we use - variance inflation factor (VIF)\n",
    "\n",
    "  \n",
    "multi = df[['age', 'sex', 'bmi', 'children', 'smoker', 'region']]\n",
    "# VIF dataframe \n",
    "vif_data = pd.DataFrame() \n",
    "vif_data[\"feature\"] = multi.columns\n",
    "  \n",
    "# calculating VIF for each feature \n",
    "vif_data[\"VIF\"] = [variance_inflation_factor(multi.values, i) \n",
    "                          for i in range(len(multi.columns))] \n",
    "  \n",
    "print(vif_data)"
   ]
  },
  {
   "cell_type": "markdown",
   "id": "ea94d0cd",
   "metadata": {},
   "source": [
    "- The VIF values suggest varying degrees of multicollinearity among the independent variables.\n",
    "- \"Age\" and \"bmi\" exhibit moderate to high multicollinearity, with VIF values around 9.98 and 12.10, respectively.\n",
    "- Other features like \"sex,\" \"children,\" \"smoker,\" and \"region\" show minimal multicollinearity, with VIF values below 2.93.\n",
    "- Addressing multicollinearity, particularly in \"age\" and \"bmi,\" may be necessary to ensure the reliability of regression models.\n",
    "\n",
    "##### To mitigate multicollinearity, we removed the \"bmi\" feature from the dataset, as it exhibited a high VIF value. The updated dataset, denoted as \"new,\" now consists of the remaining independent variables: \"age,\" \"sex,\" \"children,\" \"smoker,\" \"region,\" and the dependent variable \"charges.\" This adjustment aims to enhance the robustness of regression modeling by eliminating highly correlated variables.\n",
    "\n",
    "\n",
    "\n",
    "\n"
   ]
  },
  {
   "cell_type": "code",
   "execution_count": 39,
   "id": "c27256fb",
   "metadata": {},
   "outputs": [
    {
     "data": {
      "text/html": [
       "<div>\n",
       "<style scoped>\n",
       "    .dataframe tbody tr th:only-of-type {\n",
       "        vertical-align: middle;\n",
       "    }\n",
       "\n",
       "    .dataframe tbody tr th {\n",
       "        vertical-align: top;\n",
       "    }\n",
       "\n",
       "    .dataframe thead th {\n",
       "        text-align: right;\n",
       "    }\n",
       "</style>\n",
       "<table border=\"1\" class=\"dataframe\">\n",
       "  <thead>\n",
       "    <tr style=\"text-align: right;\">\n",
       "      <th></th>\n",
       "      <th>age</th>\n",
       "      <th>sex</th>\n",
       "      <th>children</th>\n",
       "      <th>smoker</th>\n",
       "      <th>region</th>\n",
       "      <th>charges</th>\n",
       "    </tr>\n",
       "  </thead>\n",
       "  <tbody>\n",
       "    <tr>\n",
       "      <th>0</th>\n",
       "      <td>19.0</td>\n",
       "      <td>0</td>\n",
       "      <td>0</td>\n",
       "      <td>1</td>\n",
       "      <td>3</td>\n",
       "      <td>16884.92400</td>\n",
       "    </tr>\n",
       "    <tr>\n",
       "      <th>1</th>\n",
       "      <td>18.0</td>\n",
       "      <td>1</td>\n",
       "      <td>1</td>\n",
       "      <td>0</td>\n",
       "      <td>2</td>\n",
       "      <td>1725.55230</td>\n",
       "    </tr>\n",
       "    <tr>\n",
       "      <th>2</th>\n",
       "      <td>28.0</td>\n",
       "      <td>1</td>\n",
       "      <td>3</td>\n",
       "      <td>0</td>\n",
       "      <td>2</td>\n",
       "      <td>4449.46200</td>\n",
       "    </tr>\n",
       "    <tr>\n",
       "      <th>3</th>\n",
       "      <td>33.0</td>\n",
       "      <td>1</td>\n",
       "      <td>0</td>\n",
       "      <td>0</td>\n",
       "      <td>1</td>\n",
       "      <td>21984.47061</td>\n",
       "    </tr>\n",
       "    <tr>\n",
       "      <th>4</th>\n",
       "      <td>32.0</td>\n",
       "      <td>1</td>\n",
       "      <td>0</td>\n",
       "      <td>0</td>\n",
       "      <td>1</td>\n",
       "      <td>3866.85520</td>\n",
       "    </tr>\n",
       "  </tbody>\n",
       "</table>\n",
       "</div>"
      ],
      "text/plain": [
       "    age  sex  children  smoker  region      charges\n",
       "0  19.0    0         0       1       3  16884.92400\n",
       "1  18.0    1         1       0       2   1725.55230\n",
       "2  28.0    1         3       0       2   4449.46200\n",
       "3  33.0    1         0       0       1  21984.47061\n",
       "4  32.0    1         0       0       1   3866.85520"
      ]
     },
     "execution_count": 39,
     "metadata": {},
     "output_type": "execute_result"
    }
   ],
   "source": [
    "new =  df[['age', 'sex','children', 'smoker', 'region','charges']]\n",
    "new.head()"
   ]
  },
  {
   "cell_type": "markdown",
   "id": "d052e90a",
   "metadata": {},
   "source": [
    "## Checking Correlation Among Variables\n",
    "\n",
    "We're assessing the correlation between variables in the dataset to identify potential relationships and patterns. This analysis helps understand how different features relate to each other and the target variable. Strong correlations may indicate predictive relationships, while weak or no correlations suggest independence. We'll utilize correlation coefficients or visualizations like heatmaps to examine the strength and direction of relationships between variables. This step is crucial for selecting features and building regression models effectively."
   ]
  },
  {
   "cell_type": "code",
   "execution_count": 40,
   "id": "ada95658",
   "metadata": {},
   "outputs": [
    {
     "data": {
      "text/html": [
       "<div>\n",
       "<style scoped>\n",
       "    .dataframe tbody tr th:only-of-type {\n",
       "        vertical-align: middle;\n",
       "    }\n",
       "\n",
       "    .dataframe tbody tr th {\n",
       "        vertical-align: top;\n",
       "    }\n",
       "\n",
       "    .dataframe thead th {\n",
       "        text-align: right;\n",
       "    }\n",
       "</style>\n",
       "<table border=\"1\" class=\"dataframe\">\n",
       "  <thead>\n",
       "    <tr style=\"text-align: right;\">\n",
       "      <th></th>\n",
       "      <th>age</th>\n",
       "      <th>sex</th>\n",
       "      <th>children</th>\n",
       "      <th>smoker</th>\n",
       "      <th>region</th>\n",
       "      <th>charges</th>\n",
       "    </tr>\n",
       "  </thead>\n",
       "  <tbody>\n",
       "    <tr>\n",
       "      <th>age</th>\n",
       "      <td>1.000000</td>\n",
       "      <td>-0.020424</td>\n",
       "      <td>0.116619</td>\n",
       "      <td>-0.021070</td>\n",
       "      <td>0.002221</td>\n",
       "      <td>0.278658</td>\n",
       "    </tr>\n",
       "    <tr>\n",
       "      <th>sex</th>\n",
       "      <td>-0.020424</td>\n",
       "      <td>1.000000</td>\n",
       "      <td>0.017163</td>\n",
       "      <td>0.076185</td>\n",
       "      <td>0.004588</td>\n",
       "      <td>0.057292</td>\n",
       "    </tr>\n",
       "    <tr>\n",
       "      <th>children</th>\n",
       "      <td>0.116619</td>\n",
       "      <td>0.017163</td>\n",
       "      <td>1.000000</td>\n",
       "      <td>0.007673</td>\n",
       "      <td>0.016569</td>\n",
       "      <td>0.067998</td>\n",
       "    </tr>\n",
       "    <tr>\n",
       "      <th>smoker</th>\n",
       "      <td>-0.021070</td>\n",
       "      <td>0.076185</td>\n",
       "      <td>0.007673</td>\n",
       "      <td>1.000000</td>\n",
       "      <td>-0.002181</td>\n",
       "      <td>0.787251</td>\n",
       "    </tr>\n",
       "    <tr>\n",
       "      <th>region</th>\n",
       "      <td>0.002221</td>\n",
       "      <td>0.004588</td>\n",
       "      <td>0.016569</td>\n",
       "      <td>-0.002181</td>\n",
       "      <td>1.000000</td>\n",
       "      <td>-0.006208</td>\n",
       "    </tr>\n",
       "    <tr>\n",
       "      <th>charges</th>\n",
       "      <td>0.278658</td>\n",
       "      <td>0.057292</td>\n",
       "      <td>0.067998</td>\n",
       "      <td>0.787251</td>\n",
       "      <td>-0.006208</td>\n",
       "      <td>1.000000</td>\n",
       "    </tr>\n",
       "  </tbody>\n",
       "</table>\n",
       "</div>"
      ],
      "text/plain": [
       "               age       sex  children    smoker    region   charges\n",
       "age       1.000000 -0.020424  0.116619 -0.021070  0.002221  0.278658\n",
       "sex      -0.020424  1.000000  0.017163  0.076185  0.004588  0.057292\n",
       "children  0.116619  0.017163  1.000000  0.007673  0.016569  0.067998\n",
       "smoker   -0.021070  0.076185  0.007673  1.000000 -0.002181  0.787251\n",
       "region    0.002221  0.004588  0.016569 -0.002181  1.000000 -0.006208\n",
       "charges   0.278658  0.057292  0.067998  0.787251 -0.006208  1.000000"
      ]
     },
     "execution_count": 40,
     "metadata": {},
     "output_type": "execute_result"
    }
   ],
   "source": [
    "new.corr()"
   ]
  },
  {
   "cell_type": "markdown",
   "id": "116e0266",
   "metadata": {},
   "source": [
    "## Summary:\n",
    "\n",
    "- The correlation matrix reveals the pairwise correlations between variables.\n",
    "- \"Age\" and \"charges\" exhibit a moderate positive correlation of approximately 0.279, indicating that older individuals tend to have higher insurance charges.\n",
    "- \"Smoker\" shows a strong positive correlation of approximately 0.787 with \"charges,\" suggesting a significant impact on insurance charges.\n",
    "- Other variables such as \"sex,\" \"children,\" and \"region\" demonstrate relatively weak correlations with \"charges.\"\n",
    "- This analysis provides valuable insights into potential predictors for insurance charges and guides further modeling efforts.\n",
    "\n",
    "\n",
    "\n"
   ]
  },
  {
   "cell_type": "markdown",
   "id": "4690fd24",
   "metadata": {},
   "source": [
    "## Feature Selection Using Forward and Backward Elimination\n",
    "\n",
    "\n",
    "To identify the most influential features for predicting insurance charges, we'll employ forward and backward elimination techniques. These methods iteratively add or remove features based on their statistical significance in the regression model. By leveraging the statsmodels library, we can perform stepwise regression to select the best subset of features that optimize model performance. This process aids in improving model interpretability and reducing overfitting by retaining only the most relevant features.\n",
    "\n",
    "\n",
    "\n",
    "\n",
    "\n"
   ]
  },
  {
   "cell_type": "code",
   "execution_count": 45,
   "id": "44c961e9",
   "metadata": {},
   "outputs": [
    {
     "data": {
      "text/html": [
       "<table class=\"simpletable\">\n",
       "<caption>OLS Regression Results</caption>\n",
       "<tr>\n",
       "  <th>Dep. Variable:</th>         <td>charges</td>     <th>  R-squared (uncentered):</th>      <td>   0.864</td> \n",
       "</tr>\n",
       "<tr>\n",
       "  <th>Model:</th>                   <td>OLS</td>       <th>  Adj. R-squared (uncentered):</th> <td>   0.863</td> \n",
       "</tr>\n",
       "<tr>\n",
       "  <th>Method:</th>             <td>Least Squares</td>  <th>  F-statistic:       </th>          <td>   4227.</td> \n",
       "</tr>\n",
       "<tr>\n",
       "  <th>Date:</th>             <td>Wed, 07 Feb 2024</td> <th>  Prob (F-statistic):</th>           <td>  0.00</td>  \n",
       "</tr>\n",
       "<tr>\n",
       "  <th>Time:</th>                 <td>14:30:15</td>     <th>  Log-Likelihood:    </th>          <td> -13673.</td> \n",
       "</tr>\n",
       "<tr>\n",
       "  <th>No. Observations:</th>      <td>  1338</td>      <th>  AIC:               </th>          <td>2.735e+04</td>\n",
       "</tr>\n",
       "<tr>\n",
       "  <th>Df Residuals:</th>          <td>  1336</td>      <th>  BIC:               </th>          <td>2.736e+04</td>\n",
       "</tr>\n",
       "<tr>\n",
       "  <th>Df Model:</th>              <td>     2</td>      <th>                     </th>              <td> </td>    \n",
       "</tr>\n",
       "<tr>\n",
       "  <th>Covariance Type:</th>      <td>nonrobust</td>    <th>                     </th>              <td> </td>    \n",
       "</tr>\n",
       "</table>\n",
       "<table class=\"simpletable\">\n",
       "<tr>\n",
       "     <td></td>       <th>coef</th>     <th>std err</th>      <th>t</th>      <th>P>|t|</th>  <th>[0.025</th>    <th>0.975]</th>  \n",
       "</tr>\n",
       "<tr>\n",
       "  <th>age</th>    <td>  240.5129</td> <td>    5.285</td> <td>   45.507</td> <td> 0.000</td> <td>  230.145</td> <td>  250.881</td>\n",
       "</tr>\n",
       "<tr>\n",
       "  <th>smoker</th> <td> 2.338e+04</td> <td>  444.083</td> <td>   52.658</td> <td> 0.000</td> <td> 2.25e+04</td> <td> 2.43e+04</td>\n",
       "</tr>\n",
       "</table>\n",
       "<table class=\"simpletable\">\n",
       "<tr>\n",
       "  <th>Omnibus:</th>       <td>243.711</td> <th>  Durbin-Watson:     </th> <td>   2.059</td> \n",
       "</tr>\n",
       "<tr>\n",
       "  <th>Prob(Omnibus):</th> <td> 0.000</td>  <th>  Jarque-Bera (JB):  </th> <td> 512.363</td> \n",
       "</tr>\n",
       "<tr>\n",
       "  <th>Skew:</th>          <td> 1.044</td>  <th>  Prob(JB):          </th> <td>5.52e-112</td>\n",
       "</tr>\n",
       "<tr>\n",
       "  <th>Kurtosis:</th>      <td> 5.199</td>  <th>  Cond. No.          </th> <td>    93.0</td> \n",
       "</tr>\n",
       "</table><br/><br/>Notes:<br/>[1] R² is computed without centering (uncentered) since the model does not contain a constant.<br/>[2] Standard Errors assume that the covariance matrix of the errors is correctly specified."
      ],
      "text/latex": [
       "\\begin{center}\n",
       "\\begin{tabular}{lclc}\n",
       "\\toprule\n",
       "\\textbf{Dep. Variable:}    &     charges      & \\textbf{  R-squared (uncentered):}      &     0.864   \\\\\n",
       "\\textbf{Model:}            &       OLS        & \\textbf{  Adj. R-squared (uncentered):} &     0.863   \\\\\n",
       "\\textbf{Method:}           &  Least Squares   & \\textbf{  F-statistic:       }          &     4227.   \\\\\n",
       "\\textbf{Date:}             & Wed, 07 Feb 2024 & \\textbf{  Prob (F-statistic):}          &     0.00    \\\\\n",
       "\\textbf{Time:}             &     14:30:15     & \\textbf{  Log-Likelihood:    }          &   -13673.   \\\\\n",
       "\\textbf{No. Observations:} &        1338      & \\textbf{  AIC:               }          & 2.735e+04   \\\\\n",
       "\\textbf{Df Residuals:}     &        1336      & \\textbf{  BIC:               }          & 2.736e+04   \\\\\n",
       "\\textbf{Df Model:}         &           2      & \\textbf{                     }          &             \\\\\n",
       "\\textbf{Covariance Type:}  &    nonrobust     & \\textbf{                     }          &             \\\\\n",
       "\\bottomrule\n",
       "\\end{tabular}\n",
       "\\begin{tabular}{lcccccc}\n",
       "                & \\textbf{coef} & \\textbf{std err} & \\textbf{t} & \\textbf{P$> |$t$|$} & \\textbf{[0.025} & \\textbf{0.975]}  \\\\\n",
       "\\midrule\n",
       "\\textbf{age}    &     240.5129  &        5.285     &    45.507  &         0.000        &      230.145    &      250.881     \\\\\n",
       "\\textbf{smoker} &    2.338e+04  &      444.083     &    52.658  &         0.000        &     2.25e+04    &     2.43e+04     \\\\\n",
       "\\bottomrule\n",
       "\\end{tabular}\n",
       "\\begin{tabular}{lclc}\n",
       "\\textbf{Omnibus:}       & 243.711 & \\textbf{  Durbin-Watson:     } &     2.059  \\\\\n",
       "\\textbf{Prob(Omnibus):} &   0.000 & \\textbf{  Jarque-Bera (JB):  } &   512.363  \\\\\n",
       "\\textbf{Skew:}          &   1.044 & \\textbf{  Prob(JB):          } & 5.52e-112  \\\\\n",
       "\\textbf{Kurtosis:}      &   5.199 & \\textbf{  Cond. No.          } &      93.0  \\\\\n",
       "\\bottomrule\n",
       "\\end{tabular}\n",
       "%\\caption{OLS Regression Results}\n",
       "\\end{center}\n",
       "\n",
       "Notes: \\newline\n",
       " [1] R² is computed without centering (uncentered) since the model does not contain a constant. \\newline\n",
       " [2] Standard Errors assume that the covariance matrix of the errors is correctly specified."
      ],
      "text/plain": [
       "<class 'statsmodels.iolib.summary.Summary'>\n",
       "\"\"\"\n",
       "                                 OLS Regression Results                                \n",
       "=======================================================================================\n",
       "Dep. Variable:                charges   R-squared (uncentered):                   0.864\n",
       "Model:                            OLS   Adj. R-squared (uncentered):              0.863\n",
       "Method:                 Least Squares   F-statistic:                              4227.\n",
       "Date:                Wed, 07 Feb 2024   Prob (F-statistic):                        0.00\n",
       "Time:                        14:30:15   Log-Likelihood:                         -13673.\n",
       "No. Observations:                1338   AIC:                                  2.735e+04\n",
       "Df Residuals:                    1336   BIC:                                  2.736e+04\n",
       "Df Model:                           2                                                  \n",
       "Covariance Type:            nonrobust                                                  \n",
       "==============================================================================\n",
       "                 coef    std err          t      P>|t|      [0.025      0.975]\n",
       "------------------------------------------------------------------------------\n",
       "age          240.5129      5.285     45.507      0.000     230.145     250.881\n",
       "smoker      2.338e+04    444.083     52.658      0.000    2.25e+04    2.43e+04\n",
       "==============================================================================\n",
       "Omnibus:                      243.711   Durbin-Watson:                   2.059\n",
       "Prob(Omnibus):                  0.000   Jarque-Bera (JB):              512.363\n",
       "Skew:                           1.044   Prob(JB):                    5.52e-112\n",
       "Kurtosis:                       5.199   Cond. No.                         93.0\n",
       "==============================================================================\n",
       "\n",
       "Notes:\n",
       "[1] R² is computed without centering (uncentered) since the model does not contain a constant.\n",
       "[2] Standard Errors assume that the covariance matrix of the errors is correctly specified.\n",
       "\"\"\""
      ]
     },
     "execution_count": 45,
     "metadata": {},
     "output_type": "execute_result"
    }
   ],
   "source": [
    "Y = new[[\"charges\"]]\n",
    "X = new[['age','smoker']]\n",
    "model = smf.OLS(Y,X).fit()\n",
    "model.summary()"
   ]
  },
  {
   "cell_type": "markdown",
   "id": "2eb28e17",
   "metadata": {},
   "source": [
    "## Summary:\n",
    "\n",
    "- The regression model achieved an R-squared value of 0.864, indicating that approximately 86.4% of the variance in insurance charges is explained by the independent variables \"age\" and \"smoker.\"\n",
    "- Both \"age\" and \"smoker\" demonstrate statistically significant coefficients with p-values less than 0.05, suggesting that both variables significantly influence insurance charges.\n",
    "- The coefficient for \"age\" is 240.5129, indicating that, on average, each additional year of age is associated with an increase in insurance charges by approximately 240.\n",
    "- Additional diagnostic tests such as Omnibus, Durbin-Watson, and Jarque-Bera tests provide insights into the model's goodness-of-fit and normality assumptions.\n",
    "- Overall, the model demonstrates strong explanatory power and significance, capturing essential factors influencing insurance charges."
   ]
  },
  {
   "cell_type": "code",
   "execution_count": null,
   "id": "a37ac68b",
   "metadata": {},
   "outputs": [],
   "source": [
    "Y = new[[\"charges\"]]\n",
    "X = new[['age','smoker']]"
   ]
  },
  {
   "cell_type": "code",
   "execution_count": 46,
   "id": "61bb17d7",
   "metadata": {},
   "outputs": [
    {
     "data": {
      "text/plain": [
       "(1338, 6)"
      ]
     },
     "execution_count": 46,
     "metadata": {},
     "output_type": "execute_result"
    }
   ],
   "source": [
    "new.shape"
   ]
  },
  {
   "cell_type": "markdown",
   "id": "74e932cc",
   "metadata": {},
   "source": [
    "\n",
    "## Splitting the Dataset into Training and Testing Sets\n",
    "We're splitting the dataset into training and testing sets using the train_test_split function from sklearn.model_selection. This process helps evaluate the model's performance on unseen data. We've specified a test size of 0.25, indicating that 25% of the data will be allocated to the testing set, while the remaining 75% will constitute the training set. The resulting x_train, x_test, y_train, and y_test datasets represent the independent and dependent variables for both training and testing, respectively. We print the shapes of the training and testing sets to confirm the allocation of data.\n"
   ]
  },
  {
   "cell_type": "code",
   "execution_count": 54,
   "id": "ec051f36",
   "metadata": {},
   "outputs": [
    {
     "name": "stdout",
     "output_type": "stream",
     "text": [
      "(1003, 2) (1003, 1)\n",
      "(335, 2) (335, 1)\n"
     ]
    }
   ],
   "source": [
    "\n",
    "x_train,x_test,y_train,y_test = train_test_split(X,Y, test_size = 0.25)\n",
    "print(x_train.shape, y_train.shape)\n",
    "print(x_test.shape, y_test.shape)"
   ]
  },
  {
   "cell_type": "markdown",
   "id": "890b235a",
   "metadata": {},
   "source": [
    "\n",
    "## Normalization Using Min-Max Scaler\n",
    "We're applying normalization to the training data using the Min-Max Scaler from sklearn.preprocessing. Normalization rescales the features to a specified range (usually [0, 1]) to ensure that all features have the same scale. This prevents features with larger scales from dominating the modeling process. The Min-Max Scaler transforms the data such that the minimum value of each feature becomes 0, and the maximum value becomes 1. This step prepares the data for machine learning algorithms that perform better with normalized input.\n",
    "\n",
    "\n",
    "\n",
    "\n"
   ]
  },
  {
   "cell_type": "code",
   "execution_count": 57,
   "id": "1efea245",
   "metadata": {},
   "outputs": [
    {
     "data": {
      "text/plain": [
       "array([[1.        , 0.        ],\n",
       "       [0.40969614, 0.        ],\n",
       "       [0.03414135, 0.        ],\n",
       "       ...,\n",
       "       [0.81939228, 0.        ],\n",
       "       [0.95595766, 1.        ],\n",
       "       [0.64868556, 1.        ]])"
      ]
     },
     "execution_count": 57,
     "metadata": {},
     "output_type": "execute_result"
    }
   ],
   "source": [
    "# normaliation \n",
    "from sklearn.preprocessing import MinMaxScaler\n",
    "mms = MinMaxScaler()\n",
    "X_train_noraml = mms.fit_transform(x_train)\n",
    "X_train_noraml"
   ]
  },
  {
   "cell_type": "code",
   "execution_count": 58,
   "id": "5a5d45be",
   "metadata": {},
   "outputs": [
    {
     "data": {
      "text/plain": [
       "array([[0.03414135, 0.        ],\n",
       "       [0.20484807, 0.        ],\n",
       "       [1.        , 0.        ],\n",
       "       [0.44383749, 1.        ],\n",
       "       [0.03414135, 1.        ],\n",
       "       [1.        , 0.        ],\n",
       "       [1.        , 0.        ],\n",
       "       [0.06828269, 0.        ],\n",
       "       [1.        , 0.        ],\n",
       "       [0.6828269 , 0.        ],\n",
       "       [0.64868556, 0.        ],\n",
       "       [1.        , 0.        ],\n",
       "       [0.        , 1.        ],\n",
       "       [0.34141345, 0.        ],\n",
       "       [0.61454421, 0.        ],\n",
       "       [1.        , 1.        ],\n",
       "       [1.        , 0.        ],\n",
       "       [0.10242404, 0.        ],\n",
       "       [0.85353363, 0.        ],\n",
       "       [0.51212018, 0.        ],\n",
       "       [1.        , 0.        ],\n",
       "       [0.03414135, 0.        ],\n",
       "       [0.34141345, 0.        ],\n",
       "       [1.        , 0.        ],\n",
       "       [0.17070673, 0.        ],\n",
       "       [0.88767497, 0.        ],\n",
       "       [0.40969614, 0.        ],\n",
       "       [0.44383749, 0.        ],\n",
       "       [0.03414135, 0.        ],\n",
       "       [0.81939228, 0.        ],\n",
       "       [0.71696825, 0.        ],\n",
       "       [1.        , 0.        ],\n",
       "       [0.92181632, 0.        ],\n",
       "       [1.        , 1.        ],\n",
       "       [1.        , 0.        ],\n",
       "       [0.        , 0.        ],\n",
       "       [1.        , 0.        ],\n",
       "       [0.44383749, 0.        ],\n",
       "       [0.99009901, 0.        ],\n",
       "       [1.        , 0.        ],\n",
       "       [0.88767497, 0.        ],\n",
       "       [1.        , 0.        ],\n",
       "       [1.        , 0.        ],\n",
       "       [0.92181632, 0.        ],\n",
       "       [0.34141345, 0.        ],\n",
       "       [0.95595766, 1.        ],\n",
       "       [0.6828269 , 0.        ],\n",
       "       [0.78525094, 0.        ],\n",
       "       [0.        , 0.        ],\n",
       "       [0.71696825, 0.        ],\n",
       "       [0.81939228, 0.        ],\n",
       "       [1.        , 0.        ],\n",
       "       [0.10242404, 0.        ],\n",
       "       [0.10242404, 0.        ],\n",
       "       [0.71696825, 1.        ],\n",
       "       [1.        , 0.        ],\n",
       "       [0.06828269, 0.        ],\n",
       "       [1.        , 0.        ],\n",
       "       [0.64868556, 0.        ],\n",
       "       [0.92181632, 1.        ],\n",
       "       [0.03414135, 0.        ],\n",
       "       [0.        , 1.        ],\n",
       "       [1.        , 1.        ],\n",
       "       [0.20484807, 0.        ],\n",
       "       [1.        , 1.        ],\n",
       "       [0.85353363, 1.        ],\n",
       "       [0.23898942, 0.        ],\n",
       "       [1.        , 1.        ],\n",
       "       [0.03414135, 1.        ],\n",
       "       [1.        , 0.        ],\n",
       "       [0.78525094, 0.        ],\n",
       "       [0.34141345, 0.        ],\n",
       "       [1.        , 1.        ],\n",
       "       [1.        , 0.        ],\n",
       "       [0.71696825, 0.        ],\n",
       "       [0.3755548 , 0.        ],\n",
       "       [1.        , 0.        ],\n",
       "       [1.        , 0.        ],\n",
       "       [1.        , 0.        ],\n",
       "       [0.61454421, 0.        ],\n",
       "       [0.20484807, 0.        ],\n",
       "       [1.        , 0.        ],\n",
       "       [0.30727211, 0.        ],\n",
       "       [0.3755548 , 0.        ],\n",
       "       [0.27313076, 0.        ],\n",
       "       [0.23898942, 1.        ],\n",
       "       [0.17070673, 0.        ],\n",
       "       [1.        , 1.        ],\n",
       "       [1.        , 0.        ],\n",
       "       [0.6828269 , 0.        ],\n",
       "       [0.81939228, 0.        ],\n",
       "       [1.        , 0.        ],\n",
       "       [0.99009901, 0.        ],\n",
       "       [1.        , 0.        ],\n",
       "       [1.        , 0.        ],\n",
       "       [0.78525094, 0.        ],\n",
       "       [0.23898942, 0.        ],\n",
       "       [0.75110959, 0.        ],\n",
       "       [1.        , 0.        ],\n",
       "       [0.06828269, 0.        ],\n",
       "       [1.        , 0.        ],\n",
       "       [0.13656538, 0.        ],\n",
       "       [0.54626152, 0.        ],\n",
       "       [0.61454421, 0.        ],\n",
       "       [0.23898942, 0.        ],\n",
       "       [0.        , 0.        ],\n",
       "       [1.        , 0.        ],\n",
       "       [0.34141345, 0.        ],\n",
       "       [1.        , 0.        ],\n",
       "       [1.        , 0.        ],\n",
       "       [0.92181632, 0.        ],\n",
       "       [1.        , 0.        ],\n",
       "       [0.99009901, 1.        ],\n",
       "       [0.58040287, 0.        ],\n",
       "       [0.99009901, 1.        ],\n",
       "       [0.        , 0.        ],\n",
       "       [0.88767497, 0.        ],\n",
       "       [0.78525094, 0.        ],\n",
       "       [0.03414135, 0.        ],\n",
       "       [0.27313076, 0.        ],\n",
       "       [1.        , 0.        ],\n",
       "       [0.3755548 , 0.        ],\n",
       "       [0.47797883, 1.        ],\n",
       "       [0.20484807, 1.        ],\n",
       "       [0.88767497, 0.        ],\n",
       "       [1.        , 1.        ],\n",
       "       [0.75110959, 0.        ],\n",
       "       [1.        , 0.        ],\n",
       "       [0.3755548 , 0.        ],\n",
       "       [0.06828269, 1.        ],\n",
       "       [0.40969614, 1.        ],\n",
       "       [1.        , 1.        ],\n",
       "       [0.95595766, 0.        ],\n",
       "       [0.78525094, 0.        ],\n",
       "       [1.        , 0.        ],\n",
       "       [1.        , 0.        ],\n",
       "       [1.        , 0.        ],\n",
       "       [0.51212018, 0.        ],\n",
       "       [0.99009901, 1.        ],\n",
       "       [0.        , 0.        ],\n",
       "       [0.75110959, 0.        ],\n",
       "       [1.        , 0.        ],\n",
       "       [0.03414135, 0.        ],\n",
       "       [0.03414135, 0.        ],\n",
       "       [1.        , 0.        ],\n",
       "       [1.        , 0.        ],\n",
       "       [1.        , 0.        ],\n",
       "       [0.30727211, 0.        ],\n",
       "       [1.        , 0.        ],\n",
       "       [0.54626152, 0.        ],\n",
       "       [1.        , 0.        ],\n",
       "       [1.        , 1.        ],\n",
       "       [1.        , 0.        ],\n",
       "       [0.58040287, 0.        ],\n",
       "       [0.        , 0.        ],\n",
       "       [0.95595766, 0.        ],\n",
       "       [0.34141345, 0.        ],\n",
       "       [1.        , 0.        ],\n",
       "       [0.47797883, 0.        ],\n",
       "       [0.3755548 , 0.        ],\n",
       "       [0.03414135, 1.        ],\n",
       "       [0.58040287, 0.        ],\n",
       "       [0.13656538, 0.        ],\n",
       "       [1.        , 0.        ],\n",
       "       [1.        , 1.        ],\n",
       "       [1.        , 0.        ],\n",
       "       [0.75110959, 1.        ],\n",
       "       [1.        , 0.        ],\n",
       "       [0.54626152, 0.        ],\n",
       "       [1.        , 0.        ],\n",
       "       [1.        , 1.        ],\n",
       "       [0.81939228, 0.        ],\n",
       "       [0.85353363, 0.        ],\n",
       "       [0.44383749, 0.        ],\n",
       "       [0.03414135, 0.        ],\n",
       "       [0.75110959, 0.        ],\n",
       "       [0.03414135, 0.        ],\n",
       "       [1.        , 0.        ],\n",
       "       [0.13656538, 0.        ],\n",
       "       [0.58040287, 0.        ],\n",
       "       [0.64868556, 0.        ],\n",
       "       [0.23898942, 0.        ],\n",
       "       [1.        , 0.        ],\n",
       "       [0.88767497, 0.        ],\n",
       "       [0.06828269, 0.        ],\n",
       "       [0.51212018, 0.        ],\n",
       "       [0.34141345, 0.        ],\n",
       "       [0.03414135, 0.        ],\n",
       "       [1.        , 0.        ],\n",
       "       [1.        , 0.        ],\n",
       "       [0.10242404, 0.        ],\n",
       "       [1.        , 0.        ],\n",
       "       [0.85353363, 1.        ],\n",
       "       [0.03414135, 0.        ],\n",
       "       [0.        , 0.        ],\n",
       "       [0.81939228, 1.        ],\n",
       "       [0.        , 0.        ],\n",
       "       [0.88767497, 1.        ],\n",
       "       [0.54626152, 0.        ],\n",
       "       [0.03414135, 0.        ],\n",
       "       [0.99009901, 0.        ],\n",
       "       [0.23898942, 0.        ],\n",
       "       [1.        , 0.        ],\n",
       "       [1.        , 0.        ],\n",
       "       [0.6828269 , 0.        ],\n",
       "       [0.81939228, 1.        ],\n",
       "       [1.        , 0.        ],\n",
       "       [0.88767497, 0.        ],\n",
       "       [0.3755548 , 0.        ],\n",
       "       [0.58040287, 1.        ],\n",
       "       [1.        , 0.        ],\n",
       "       [0.61454421, 1.        ],\n",
       "       [0.78525094, 0.        ],\n",
       "       [0.17070673, 0.        ],\n",
       "       [0.75110959, 0.        ],\n",
       "       [0.13656538, 0.        ],\n",
       "       [0.        , 0.        ],\n",
       "       [1.        , 0.        ],\n",
       "       [0.54626152, 0.        ],\n",
       "       [0.13656538, 1.        ],\n",
       "       [0.71696825, 0.        ],\n",
       "       [0.23898942, 0.        ],\n",
       "       [1.        , 0.        ],\n",
       "       [0.92181632, 0.        ],\n",
       "       [1.        , 1.        ],\n",
       "       [0.34141345, 0.        ],\n",
       "       [0.30727211, 1.        ],\n",
       "       [0.54626152, 0.        ],\n",
       "       [0.34141345, 0.        ],\n",
       "       [1.        , 1.        ],\n",
       "       [0.13656538, 0.        ],\n",
       "       [1.        , 0.        ],\n",
       "       [0.47797883, 0.        ],\n",
       "       [1.        , 0.        ],\n",
       "       [0.30727211, 0.        ],\n",
       "       [0.27313076, 0.        ],\n",
       "       [0.78525094, 0.        ],\n",
       "       [1.        , 0.        ],\n",
       "       [0.20484807, 1.        ],\n",
       "       [0.71696825, 1.        ],\n",
       "       [1.        , 1.        ],\n",
       "       [0.44383749, 0.        ],\n",
       "       [1.        , 0.        ],\n",
       "       [0.        , 1.        ],\n",
       "       [0.13656538, 0.        ],\n",
       "       [0.92181632, 0.        ],\n",
       "       [1.        , 0.        ],\n",
       "       [0.40969614, 0.        ],\n",
       "       [1.        , 0.        ],\n",
       "       [1.        , 0.        ],\n",
       "       [1.        , 0.        ],\n",
       "       [0.75110959, 1.        ],\n",
       "       [1.        , 0.        ],\n",
       "       [0.81939228, 1.        ],\n",
       "       [0.95595766, 1.        ],\n",
       "       [0.06828269, 0.        ],\n",
       "       [0.13656538, 0.        ],\n",
       "       [1.        , 0.        ],\n",
       "       [1.        , 0.        ],\n",
       "       [1.        , 0.        ],\n",
       "       [1.        , 0.        ],\n",
       "       [0.92181632, 0.        ],\n",
       "       [0.34141345, 0.        ],\n",
       "       [0.47797883, 1.        ],\n",
       "       [1.        , 1.        ],\n",
       "       [0.        , 0.        ],\n",
       "       [0.78525094, 1.        ],\n",
       "       [0.        , 0.        ],\n",
       "       [0.58040287, 0.        ],\n",
       "       [0.58040287, 1.        ],\n",
       "       [0.92181632, 0.        ],\n",
       "       [1.        , 0.        ],\n",
       "       [0.13656538, 0.        ],\n",
       "       [0.17070673, 0.        ],\n",
       "       [1.        , 1.        ],\n",
       "       [1.        , 0.        ],\n",
       "       [0.10242404, 0.        ],\n",
       "       [0.3755548 , 1.        ],\n",
       "       [0.03414135, 0.        ],\n",
       "       [0.10242404, 0.        ],\n",
       "       [1.        , 0.        ],\n",
       "       [1.        , 0.        ],\n",
       "       [0.        , 1.        ],\n",
       "       [0.51212018, 0.        ],\n",
       "       [1.        , 0.        ],\n",
       "       [1.        , 0.        ],\n",
       "       [0.03414135, 0.        ],\n",
       "       [1.        , 0.        ],\n",
       "       [1.        , 0.        ],\n",
       "       [0.        , 0.        ],\n",
       "       [0.99009901, 1.        ],\n",
       "       [0.85353363, 1.        ],\n",
       "       [0.92181632, 0.        ],\n",
       "       [0.95595766, 0.        ],\n",
       "       [0.75110959, 1.        ],\n",
       "       [1.        , 0.        ],\n",
       "       [1.        , 1.        ],\n",
       "       [0.99009901, 1.        ],\n",
       "       [1.        , 0.        ],\n",
       "       [1.        , 0.        ],\n",
       "       [0.03414135, 0.        ],\n",
       "       [0.40969614, 0.        ],\n",
       "       [0.99009901, 0.        ],\n",
       "       [1.        , 0.        ],\n",
       "       [0.51212018, 0.        ],\n",
       "       [1.        , 0.        ],\n",
       "       [0.71696825, 0.        ],\n",
       "       [0.95595766, 0.        ],\n",
       "       [0.75110959, 0.        ],\n",
       "       [1.        , 0.        ],\n",
       "       [0.75110959, 1.        ],\n",
       "       [0.54626152, 0.        ],\n",
       "       [1.        , 0.        ],\n",
       "       [0.88767497, 1.        ],\n",
       "       [1.        , 0.        ],\n",
       "       [0.        , 0.        ],\n",
       "       [0.54626152, 1.        ],\n",
       "       [0.58040287, 0.        ],\n",
       "       [1.        , 0.        ],\n",
       "       [1.        , 0.        ],\n",
       "       [0.92181632, 0.        ],\n",
       "       [0.17070673, 0.        ],\n",
       "       [0.88767497, 0.        ],\n",
       "       [1.        , 0.        ],\n",
       "       [0.47797883, 0.        ],\n",
       "       [0.03414135, 0.        ],\n",
       "       [0.23898942, 0.        ],\n",
       "       [1.        , 1.        ],\n",
       "       [1.        , 0.        ],\n",
       "       [1.        , 0.        ],\n",
       "       [1.        , 0.        ],\n",
       "       [0.6828269 , 0.        ],\n",
       "       [0.99009901, 0.        ],\n",
       "       [1.        , 0.        ],\n",
       "       [1.        , 0.        ]])"
      ]
     },
     "execution_count": 58,
     "metadata": {},
     "output_type": "execute_result"
    }
   ],
   "source": [
    "X_tets_nrml = mms.transform(x_test)\n",
    "X_tets_nrml"
   ]
  },
  {
   "cell_type": "markdown",
   "id": "276b288e",
   "metadata": {},
   "source": [
    "## Fitting Linear Regression Model on Normalized Training Data"
   ]
  },
  {
   "cell_type": "code",
   "execution_count": 51,
   "id": "429d2a53",
   "metadata": {},
   "outputs": [],
   "source": [
    "model = LinearRegression()"
   ]
  },
  {
   "cell_type": "code",
   "execution_count": 61,
   "id": "3cb3c3b0",
   "metadata": {
    "collapsed": true
   },
   "outputs": [
    {
     "data": {
      "text/html": [
       "<style>#sk-container-id-3 {color: black;}#sk-container-id-3 pre{padding: 0;}#sk-container-id-3 div.sk-toggleable {background-color: white;}#sk-container-id-3 label.sk-toggleable__label {cursor: pointer;display: block;width: 100%;margin-bottom: 0;padding: 0.3em;box-sizing: border-box;text-align: center;}#sk-container-id-3 label.sk-toggleable__label-arrow:before {content: \"▸\";float: left;margin-right: 0.25em;color: #696969;}#sk-container-id-3 label.sk-toggleable__label-arrow:hover:before {color: black;}#sk-container-id-3 div.sk-estimator:hover label.sk-toggleable__label-arrow:before {color: black;}#sk-container-id-3 div.sk-toggleable__content {max-height: 0;max-width: 0;overflow: hidden;text-align: left;background-color: #f0f8ff;}#sk-container-id-3 div.sk-toggleable__content pre {margin: 0.2em;color: black;border-radius: 0.25em;background-color: #f0f8ff;}#sk-container-id-3 input.sk-toggleable__control:checked~div.sk-toggleable__content {max-height: 200px;max-width: 100%;overflow: auto;}#sk-container-id-3 input.sk-toggleable__control:checked~label.sk-toggleable__label-arrow:before {content: \"▾\";}#sk-container-id-3 div.sk-estimator input.sk-toggleable__control:checked~label.sk-toggleable__label {background-color: #d4ebff;}#sk-container-id-3 div.sk-label input.sk-toggleable__control:checked~label.sk-toggleable__label {background-color: #d4ebff;}#sk-container-id-3 input.sk-hidden--visually {border: 0;clip: rect(1px 1px 1px 1px);clip: rect(1px, 1px, 1px, 1px);height: 1px;margin: -1px;overflow: hidden;padding: 0;position: absolute;width: 1px;}#sk-container-id-3 div.sk-estimator {font-family: monospace;background-color: #f0f8ff;border: 1px dotted black;border-radius: 0.25em;box-sizing: border-box;margin-bottom: 0.5em;}#sk-container-id-3 div.sk-estimator:hover {background-color: #d4ebff;}#sk-container-id-3 div.sk-parallel-item::after {content: \"\";width: 100%;border-bottom: 1px solid gray;flex-grow: 1;}#sk-container-id-3 div.sk-label:hover label.sk-toggleable__label {background-color: #d4ebff;}#sk-container-id-3 div.sk-serial::before {content: \"\";position: absolute;border-left: 1px solid gray;box-sizing: border-box;top: 0;bottom: 0;left: 50%;z-index: 0;}#sk-container-id-3 div.sk-serial {display: flex;flex-direction: column;align-items: center;background-color: white;padding-right: 0.2em;padding-left: 0.2em;position: relative;}#sk-container-id-3 div.sk-item {position: relative;z-index: 1;}#sk-container-id-3 div.sk-parallel {display: flex;align-items: stretch;justify-content: center;background-color: white;position: relative;}#sk-container-id-3 div.sk-item::before, #sk-container-id-3 div.sk-parallel-item::before {content: \"\";position: absolute;border-left: 1px solid gray;box-sizing: border-box;top: 0;bottom: 0;left: 50%;z-index: -1;}#sk-container-id-3 div.sk-parallel-item {display: flex;flex-direction: column;z-index: 1;position: relative;background-color: white;}#sk-container-id-3 div.sk-parallel-item:first-child::after {align-self: flex-end;width: 50%;}#sk-container-id-3 div.sk-parallel-item:last-child::after {align-self: flex-start;width: 50%;}#sk-container-id-3 div.sk-parallel-item:only-child::after {width: 0;}#sk-container-id-3 div.sk-dashed-wrapped {border: 1px dashed gray;margin: 0 0.4em 0.5em 0.4em;box-sizing: border-box;padding-bottom: 0.4em;background-color: white;}#sk-container-id-3 div.sk-label label {font-family: monospace;font-weight: bold;display: inline-block;line-height: 1.2em;}#sk-container-id-3 div.sk-label-container {text-align: center;}#sk-container-id-3 div.sk-container {/* jupyter's `normalize.less` sets `[hidden] { display: none; }` but bootstrap.min.css set `[hidden] { display: none !important; }` so we also need the `!important` here to be able to override the default hidden behavior on the sphinx rendered scikit-learn.org. See: https://github.com/scikit-learn/scikit-learn/issues/21755 */display: inline-block !important;position: relative;}#sk-container-id-3 div.sk-text-repr-fallback {display: none;}</style><div id=\"sk-container-id-3\" class=\"sk-top-container\"><div class=\"sk-text-repr-fallback\"><pre>LinearRegression()</pre><b>In a Jupyter environment, please rerun this cell to show the HTML representation or trust the notebook. <br />On GitHub, the HTML representation is unable to render, please try loading this page with nbviewer.org.</b></div><div class=\"sk-container\" hidden><div class=\"sk-item\"><div class=\"sk-estimator sk-toggleable\"><input class=\"sk-toggleable__control sk-hidden--visually\" id=\"sk-estimator-id-3\" type=\"checkbox\" checked><label for=\"sk-estimator-id-3\" class=\"sk-toggleable__label sk-toggleable__label-arrow\">LinearRegression</label><div class=\"sk-toggleable__content\"><pre>LinearRegression()</pre></div></div></div></div></div>"
      ],
      "text/plain": [
       "LinearRegression()"
      ]
     },
     "execution_count": 61,
     "metadata": {},
     "output_type": "execute_result"
    }
   ],
   "source": [
    "model.fit(X_train_noraml,y_train)"
   ]
  },
  {
   "cell_type": "markdown",
   "id": "0820906b",
   "metadata": {},
   "source": [
    "\n",
    "## Evaluation of Model Performance on Training Data"
   ]
  },
  {
   "cell_type": "code",
   "execution_count": 62,
   "id": "5115903f",
   "metadata": {},
   "outputs": [
    {
     "data": {
      "text/plain": [
       "0.6949465299452957"
      ]
     },
     "execution_count": 62,
     "metadata": {},
     "output_type": "execute_result"
    }
   ],
   "source": [
    "model.score(X_train_noraml,y_train)"
   ]
  },
  {
   "cell_type": "markdown",
   "id": "38331b9f",
   "metadata": {},
   "source": [
    "- The coefficient of determination (R-squared) for the linear regression model on the training data is approximately 0.695.\n",
    "- This value indicates that approximately 69.5% of the variance in the dependent variable (insurance charges) is explained by the independent variables (age and smoker) in the model.\n",
    "- While the model accounts for a considerable portion of the variance, there may still be room for improvement in capturing the variability in insurance charges.\n",
    "- Further optimization and refinement of the model, such as feature engineering or exploring more complex algorithms, may lead to better predictive performance.\n",
    "\n",
    "\n",
    "\n"
   ]
  },
  {
   "cell_type": "markdown",
   "id": "ea816138",
   "metadata": {},
   "source": [
    "# Prediction and Comparison of Actual vs. Predicted Charges\n"
   ]
  },
  {
   "cell_type": "code",
   "execution_count": 63,
   "id": "d246a5b7",
   "metadata": {},
   "outputs": [
    {
     "data": {
      "text/html": [
       "<div>\n",
       "<style scoped>\n",
       "    .dataframe tbody tr th:only-of-type {\n",
       "        vertical-align: middle;\n",
       "    }\n",
       "\n",
       "    .dataframe tbody tr th {\n",
       "        vertical-align: top;\n",
       "    }\n",
       "\n",
       "    .dataframe thead th {\n",
       "        text-align: right;\n",
       "    }\n",
       "</style>\n",
       "<table border=\"1\" class=\"dataframe\">\n",
       "  <thead>\n",
       "    <tr style=\"text-align: right;\">\n",
       "      <th></th>\n",
       "      <th>age</th>\n",
       "      <th>smoker</th>\n",
       "      <th>Actual_charges</th>\n",
       "      <th>pred_charges</th>\n",
       "    </tr>\n",
       "  </thead>\n",
       "  <tbody>\n",
       "    <tr>\n",
       "      <th>899</th>\n",
       "      <td>19.00</td>\n",
       "      <td>0</td>\n",
       "      <td>2117.33885</td>\n",
       "      <td>2946.697325</td>\n",
       "    </tr>\n",
       "    <tr>\n",
       "      <th>693</th>\n",
       "      <td>24.00</td>\n",
       "      <td>0</td>\n",
       "      <td>2352.96845</td>\n",
       "      <td>4555.383566</td>\n",
       "    </tr>\n",
       "    <tr>\n",
       "      <th>1018</th>\n",
       "      <td>47.29</td>\n",
       "      <td>0</td>\n",
       "      <td>12495.29085</td>\n",
       "      <td>12048.644078</td>\n",
       "    </tr>\n",
       "    <tr>\n",
       "      <th>29</th>\n",
       "      <td>31.00</td>\n",
       "      <td>1</td>\n",
       "      <td>38711.00000</td>\n",
       "      <td>30446.489836</td>\n",
       "    </tr>\n",
       "    <tr>\n",
       "      <th>238</th>\n",
       "      <td>19.00</td>\n",
       "      <td>1</td>\n",
       "      <td>17352.68030</td>\n",
       "      <td>26585.642857</td>\n",
       "    </tr>\n",
       "    <tr>\n",
       "      <th>...</th>\n",
       "      <td>...</td>\n",
       "      <td>...</td>\n",
       "      <td>...</td>\n",
       "      <td>...</td>\n",
       "    </tr>\n",
       "    <tr>\n",
       "      <th>715</th>\n",
       "      <td>47.29</td>\n",
       "      <td>0</td>\n",
       "      <td>12146.97100</td>\n",
       "      <td>12048.644078</td>\n",
       "    </tr>\n",
       "    <tr>\n",
       "      <th>922</th>\n",
       "      <td>38.00</td>\n",
       "      <td>0</td>\n",
       "      <td>5488.26200</td>\n",
       "      <td>9059.705042</td>\n",
       "    </tr>\n",
       "    <tr>\n",
       "      <th>748</th>\n",
       "      <td>47.00</td>\n",
       "      <td>0</td>\n",
       "      <td>8556.90700</td>\n",
       "      <td>11955.340276</td>\n",
       "    </tr>\n",
       "    <tr>\n",
       "      <th>1091</th>\n",
       "      <td>47.29</td>\n",
       "      <td>0</td>\n",
       "      <td>11286.53870</td>\n",
       "      <td>12048.644078</td>\n",
       "    </tr>\n",
       "    <tr>\n",
       "      <th>1010</th>\n",
       "      <td>47.29</td>\n",
       "      <td>0</td>\n",
       "      <td>8269.04400</td>\n",
       "      <td>12048.644078</td>\n",
       "    </tr>\n",
       "  </tbody>\n",
       "</table>\n",
       "<p>335 rows × 4 columns</p>\n",
       "</div>"
      ],
      "text/plain": [
       "        age  smoker  Actual_charges  pred_charges\n",
       "899   19.00       0      2117.33885   2946.697325\n",
       "693   24.00       0      2352.96845   4555.383566\n",
       "1018  47.29       0     12495.29085  12048.644078\n",
       "29    31.00       1     38711.00000  30446.489836\n",
       "238   19.00       1     17352.68030  26585.642857\n",
       "...     ...     ...             ...           ...\n",
       "715   47.29       0     12146.97100  12048.644078\n",
       "922   38.00       0      5488.26200   9059.705042\n",
       "748   47.00       0      8556.90700  11955.340276\n",
       "1091  47.29       0     11286.53870  12048.644078\n",
       "1010  47.29       0      8269.04400  12048.644078\n",
       "\n",
       "[335 rows x 4 columns]"
      ]
     },
     "execution_count": 63,
     "metadata": {},
     "output_type": "execute_result"
    }
   ],
   "source": [
    "# prediction\n",
    "pred = model.predict(X_tets_nrml)\n",
    "res = pd.DataFrame()\n",
    "res = pd.concat([x_test,res],axis=1)\n",
    "res[\"Actual_charges\"] = y_test\n",
    "res[\"pred_charges\"] = pred\n",
    "res\n"
   ]
  },
  {
   "cell_type": "markdown",
   "id": "dc6a4f64",
   "metadata": {},
   "source": [
    "\n",
    "## Calculating R-squared Score for Predicted Charges\n",
    "We're calculating the coefficient of determination (R-squared) to assess the goodness-of-fit of our linear regression model's predictions. The R-squared score measures the proportion of variance in the dependent variable (actual charges) that is explained by the independent variables (predicted charges) in the model. A higher R-squared value closer to 1 indicates a better fit of the model to the data, with more variance explained. Conversely, a lower R-squared value suggests that the model's predictions deviate from the actual charges."
   ]
  },
  {
   "cell_type": "code",
   "execution_count": 66,
   "id": "b89c41c1",
   "metadata": {},
   "outputs": [
    {
     "name": "stdout",
     "output_type": "stream",
     "text": [
      "0.74069175190198\n"
     ]
    }
   ],
   "source": [
    "print(r2_score(res[\"Actual_charges\"], res[\"pred_charges\"]))"
   ]
  },
  {
   "cell_type": "markdown",
   "id": "d0a19344",
   "metadata": {},
   "source": [
    "- The R-squared score for the linear regression model's predictions on the test data is approximately 0.741.\n",
    "- This value indicates that around 74.1% of the variance in the actual insurance charges is explained by the model's predictions.\n",
    "- The relatively high R-squared score suggests that the model performs reasonably well in capturing the variability in insurance charges based on the selected features (age and smoker).\n",
    "- However, further evaluation and refinement of the model may be beneficial to improve predictive accuracy and address any remaining variability."
   ]
  },
  {
   "cell_type": "markdown",
   "id": "8394986f",
   "metadata": {},
   "source": [
    "## Checking Normality of Residuals for Linear Regression Assumption\n",
    "\n",
    "We're evaluating the normality assumption of linear regression by examining the distribution of residuals, which are the differences between the actual and predicted values of the dependent variable (insurance charges). A normal distribution of residuals indicates that the model's errors are unbiased and evenly distributed around zero, satisfying one of the key assumptions of linear regression."
   ]
  },
  {
   "cell_type": "code",
   "execution_count": 67,
   "id": "a896fdbf",
   "metadata": {},
   "outputs": [
    {
     "data": {
      "text/html": [
       "<div>\n",
       "<style scoped>\n",
       "    .dataframe tbody tr th:only-of-type {\n",
       "        vertical-align: middle;\n",
       "    }\n",
       "\n",
       "    .dataframe tbody tr th {\n",
       "        vertical-align: top;\n",
       "    }\n",
       "\n",
       "    .dataframe thead th {\n",
       "        text-align: right;\n",
       "    }\n",
       "</style>\n",
       "<table border=\"1\" class=\"dataframe\">\n",
       "  <thead>\n",
       "    <tr style=\"text-align: right;\">\n",
       "      <th></th>\n",
       "      <th>age</th>\n",
       "      <th>smoker</th>\n",
       "      <th>Actual_charges</th>\n",
       "      <th>pred_charges</th>\n",
       "      <th>error</th>\n",
       "    </tr>\n",
       "  </thead>\n",
       "  <tbody>\n",
       "    <tr>\n",
       "      <th>899</th>\n",
       "      <td>19.0</td>\n",
       "      <td>0</td>\n",
       "      <td>2117.33885</td>\n",
       "      <td>2946.697325</td>\n",
       "      <td>-829.358475</td>\n",
       "    </tr>\n",
       "    <tr>\n",
       "      <th>693</th>\n",
       "      <td>24.0</td>\n",
       "      <td>0</td>\n",
       "      <td>2352.96845</td>\n",
       "      <td>4555.383566</td>\n",
       "      <td>-2202.415116</td>\n",
       "    </tr>\n",
       "  </tbody>\n",
       "</table>\n",
       "</div>"
      ],
      "text/plain": [
       "      age  smoker  Actual_charges  pred_charges        error\n",
       "899  19.0       0      2117.33885   2946.697325  -829.358475\n",
       "693  24.0       0      2352.96845   4555.383566 -2202.415116"
      ]
     },
     "execution_count": 67,
     "metadata": {},
     "output_type": "execute_result"
    }
   ],
   "source": [
    "res[\"error\"] = res[\"Actual_charges\"] - res[\"pred_charges\"]\n",
    "res.head(2)"
   ]
  },
  {
   "cell_type": "code",
   "execution_count": 68,
   "id": "61092691",
   "metadata": {},
   "outputs": [
    {
     "name": "stderr",
     "output_type": "stream",
     "text": [
      "C:\\Users\\Tarun Bechum\\AppData\\Local\\Temp\\ipykernel_3128\\243257648.py:1: UserWarning: \n",
      "\n",
      "`distplot` is a deprecated function and will be removed in seaborn v0.14.0.\n",
      "\n",
      "Please adapt your code to use either `displot` (a figure-level function with\n",
      "similar flexibility) or `histplot` (an axes-level function for histograms).\n",
      "\n",
      "For a guide to updating your code to use the new functions, please see\n",
      "https://gist.github.com/mwaskom/de44147ed2974457ad6372750bbe5751\n",
      "\n",
      "  sns.distplot(res[\"error\"])\n"
     ]
    },
    {
     "data": {
      "text/plain": [
       "<Axes: xlabel='error', ylabel='Density'>"
      ]
     },
     "execution_count": 68,
     "metadata": {},
     "output_type": "execute_result"
    },
    {
     "data": {
      "image/png": "[encoded data removed]",
      "text/plain": [
       "<Figure size 640x480 with 1 Axes>"
      ]
     },
     "metadata": {},
     "output_type": "display_data"
    }
   ],
   "source": [
    "sns.distplot(res[\"error\"])"
   ]
  },
  {
   "cell_type": "markdown",
   "id": "bf37f515",
   "metadata": {},
   "source": [
    "##### The residuals exhibit a bell-shaped distribution centered around zero, indicating adherence to the normal distribution assumption of linear regression."
   ]
  },
  {
   "cell_type": "markdown",
   "id": "30b2e191",
   "metadata": {},
   "source": [
    "# Conclusion:\n",
    "\n",
    "The machine learning model developed in this project demonstrates promising performance in predicting insurance charges based on demographic and lifestyle factors.\n",
    "\n",
    "- The model achieved a high coefficient of determination (R-squared) of approximately 0.741 on the test data, indicating that around 74.1% of the variance in the actual insurance charges is explained by the model's predictions.\n",
    "- Furthermore, the R-squared value of approximately 0.695 on the training data suggests that the model captures a significant portion (69.5%) of the variance in insurance charges.\n",
    "- The model's predictive accuracy is supported by additional evaluation metrics such as the mean squared error, mean absolute error, and other diagnostic tests confirming the validity of the linear regression assumptions.\n",
    "- Additionally, the normality assumption of linear regression is validated through the distribution of residuals, which exhibit a bell-shaped curve centered around zero.\n",
    "\n",
    "###### Overall, the model demonstrates strong predictive capability and reliability in estimating insurance charges based on age and smoking status. However, further refinement and validation may be warranted to improve the model's performance and address any remaining variability.\n",
    "\n",
    "\n",
    "\n",
    "\n"
   ]
  }
 ],
 "metadata": {
  "kernelspec": {
   "display_name": "Python 3 (ipykernel)",
   "language": "python",
   "name": "python3"
  },
  "language_info": {
   "codemirror_mode": {
    "name": "ipython",
    "version": 3
   },
   "file_extension": ".py",
   "mimetype": "text/x-python",
   "name": "python",
   "nbconvert_exporter": "python",
   "pygments_lexer": "ipython3",
   "version": "3.11.5"
  }
 },
 "nbformat": 4,
 "nbformat_minor": 5
}
